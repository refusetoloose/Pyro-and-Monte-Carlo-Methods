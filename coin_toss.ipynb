{
 "cells": [
  {
   "cell_type": "code",
   "execution_count": null,
   "metadata": {},
   "outputs": [
    {
     "name": "stderr",
     "output_type": "stream",
     "text": [
      "d:\\SAIT\\aDATA475\\VS_Python\\lab7p\\.venv\\lib\\site-packages\\tqdm\\auto.py:21: TqdmWarning: IProgress not found. Please update jupyter and ipywidgets. See https://ipywidgets.readthedocs.io/en/stable/user_install.html\n",
      "  from .autonotebook import tqdm as notebook_tqdm\n"
     ]
    }
   ],
   "source": [
    "# %%\n",
    "\n",
    "from collections import Counter\n",
    "\n",
    "import pyro\n",
    "import torch\n",
    "from tqdm import tqdm"
   ]
  },
  {
   "cell_type": "code",
   "execution_count": null,
   "metadata": {},
   "outputs": [],
   "source": [
    "# %%\n",
    "\n",
    "def coin_toss(n):\n",
    "    faces = Counter()\n",
    "    total = 0\n",
    "    for _ in tqdm(range(n)):\n",
    "\n",
    "        # create a sample of Bernoulli distribution for fair (50/50) coin\n",
    "        # The size of the sample is 1 by default for pyro.sample\n",
    "        outcome = pyro.sample(\"coin\", pyro.distributions.Bernoulli(0.5))\n",
    "\n",
    "        # convert the Bernoulli distribution into meaning\n",
    "        # what does 1/0 stands for ?\n",
    "        if outcome.item() == 1:\n",
    "            result = \"head\"\n",
    "        else:\n",
    "            result = \"tail\"\n",
    "\n",
    "        # gain 2 if head is tossed, otherwise lose 2\n",
    "        reward = {\"head\": 2, \"tail\": -2}[result]\n",
    "\n",
    "        # update the faces Counter\n",
    "        faces[result] += 1\n",
    "        total += reward\n",
    "\n",
    "    return faces, total\n",
    "\n",
    "\n",
    "def coin_toss_tensor(n):\n",
    "\n",
    "    # create a sample of Bernoulli distribution for fair (50/50) coin\n",
    "    # The size of the sample is n\n",
    "    outcome = pyro.sample(\"coin\", pyro.distributions.Bernoulli(0.5).expand([n]))\n",
    "\n",
    "    # return Counter object to summarize the counts of head/tail, and total rewards\n",
    "    heads = torch.sum(outcome).item()\n",
    "    tails = n - heads\n",
    "    total_reward = 2 * heads - 2 * tails\n",
    "    return Counter({\"head\": heads, \"tail\": tails}), total_reward\n",
    "\n",
    "\n",
    "def simulation(n, simulation_func):\n",
    "    faces, total = simulation_func(n)\n",
    "\n",
    "    print(f\"\\nRan {n} simulation{'s' if n >1 else ''}\")\n",
    "    print(f\"Total Reward = {total}\")\n",
    "    print(faces)"
   ]
  },
  {
   "cell_type": "code",
   "execution_count": null,
   "metadata": {},
   "outputs": [
    {
     "name": "stderr",
     "output_type": "stream",
     "text": [
      "100%|██████████| 1/1 [00:00<00:00,  1.20it/s]\n"
     ]
    },
    {
     "name": "stdout",
     "output_type": "stream",
     "text": [
      "\n",
      "Ran 1 simulation\n",
      "Total Reward = 2\n",
      "Counter({'head': 1})\n"
     ]
    },
    {
     "name": "stderr",
     "output_type": "stream",
     "text": [
      "100%|██████████| 1000/1000 [00:00<00:00, 6540.59it/s]\n"
     ]
    },
    {
     "name": "stdout",
     "output_type": "stream",
     "text": [
      "\n",
      "Ran 1000 simulations\n",
      "Total Reward = -32\n",
      "Counter({'tail': 508, 'head': 492})\n"
     ]
    },
    {
     "name": "stderr",
     "output_type": "stream",
     "text": [
      "100%|██████████| 1000000/1000000 [01:44<00:00, 9527.81it/s]"
     ]
    },
    {
     "name": "stdout",
     "output_type": "stream",
     "text": [
      "\n",
      "Ran 1000000 simulations\n",
      "Total Reward = 1868\n",
      "Counter({'head': 500467, 'tail': 499533})\n"
     ]
    },
    {
     "name": "stderr",
     "output_type": "stream",
     "text": [
      "\n"
     ]
    }
   ],
   "source": [
    "# %%\n",
    "\n",
    "for n in [1, 1000, 1000000]:\n",
    "    simulation(n, coin_toss)"
   ]
  },
  {
   "cell_type": "code",
   "execution_count": null,
   "metadata": {},
   "outputs": [
    {
     "name": "stdout",
     "output_type": "stream",
     "text": [
      "\n",
      "Ran 1 simulation\n",
      "Total Reward = 2.0\n",
      "Counter({'head': 1.0, 'tail': 0.0})\n",
      "\n",
      "Ran 1000 simulations\n",
      "Total Reward = 28.0\n",
      "Counter({'head': 507.0, 'tail': 493.0})\n",
      "\n",
      "Ran 1000000 simulations\n",
      "Total Reward = 1128.0\n",
      "Counter({'head': 500282.0, 'tail': 499718.0})\n"
     ]
    }
   ],
   "source": [
    "# %%\n",
    "\n",
    "for n in [1, 1000, 1000000]:\n",
    "    simulation(n, coin_toss_tensor)"
   ]
  }
 ],
 "metadata": {
  "language_info": {
   "codemirror_mode": {
    "name": "ipython",
    "version": 3
   },
   "file_extension": ".py",
   "mimetype": "text/x-python",
   "name": "python",
   "nbconvert_exporter": "python",
   "pygments_lexer": "ipython3",
   "version": 3
  }
 },
 "nbformat": 4,
 "nbformat_minor": 2
}
